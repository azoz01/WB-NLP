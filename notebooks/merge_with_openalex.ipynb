{
 "cells": [
  {
   "cell_type": "code",
   "execution_count": 1,
   "metadata": {},
   "outputs": [],
   "source": [
    "import pandas as pd\n",
    "import requests\n",
    "import json\n",
    "import pickle as pkl\n",
    "from tqdm.auto import tqdm\n",
    "tqdm.pandas()\n"
   ]
  },
  {
   "cell_type": "code",
   "execution_count": 2,
   "metadata": {},
   "outputs": [
    {
     "name": "stderr",
     "output_type": "stream",
     "text": [
      "/tmp/ipykernel_3439/2835532993.py:1: DtypeWarning: Columns (6) have mixed types. Specify dtype option on import or set low_memory=False.\n",
      "  df = pd.read_csv('../data/data_with_altmetric.csv')\n"
     ]
    }
   ],
   "source": [
    "df = pd.read_csv('../data/data_with_altmetric.csv')\n",
    "df = df[~df['doi'].isna()]\n",
    "df = df[~df['abstract'].isna()]"
   ]
  },
  {
   "cell_type": "code",
   "execution_count": 3,
   "metadata": {},
   "outputs": [
    {
     "data": {
      "text/plain": [
       "(14492, 43)"
      ]
     },
     "execution_count": 3,
     "metadata": {},
     "output_type": "execute_result"
    }
   ],
   "source": [
    "df.shape"
   ]
  },
  {
   "cell_type": "code",
   "execution_count": 4,
   "metadata": {},
   "outputs": [],
   "source": [
    "def get_openalex_attributes(doi: str):\n",
    "    url = f'https://api.openalex.org/works/doi:{doi}'\n",
    "    try:\n",
    "        resp = requests.get(url, timeout=10)\n",
    "        content = json.loads(resp.content)\n",
    "    except:\n",
    "        print('Error occured')\n",
    "        return None\n",
    "\n",
    "    result_dict = {}\n",
    "    result_dict['type'] = content['type']\n",
    "    result_dict['host_display_name'] = content['host_venue']['display_name']\n",
    "    result_dict['publisher'] = content['host_venue']['publisher']\n",
    "    result_dict['is_open_access'] = content['open_access']['is_oa']\n",
    "    result_dict['open_alex_citations_count'] = content['cited_by_count']\n",
    "    inst_nested_list = [el['institutions'] for el in content['authorships']]\n",
    "    inst_nested_names = list(map(lambda inst_list: [entry['display_name'] for entry in inst_list], inst_nested_list))\n",
    "    result_dict['institutions'] = [el for subl in inst_nested_names for el in subl]\n",
    "\n",
    "    return result_dict"
   ]
  },
  {
   "cell_type": "code",
   "execution_count": 5,
   "metadata": {},
   "outputs": [
    {
     "data": {
      "application/vnd.jupyter.widget-view+json": {
       "model_id": "77a7a3676d404234b08bad12fb1e8c30",
       "version_major": 2,
       "version_minor": 0
      },
      "text/plain": [
       "  0%|          | 0/14492 [00:00<?, ?it/s]"
      ]
     },
     "metadata": {},
     "output_type": "display_data"
    },
    {
     "name": "stdout",
     "output_type": "stream",
     "text": [
      "Error occured\n",
      "Error occured\n",
      "Error occured\n",
      "Error occured\n",
      "Error occured\n",
      "Error occured\n",
      "Error occured\n",
      "Error occured\n",
      "Error occured\n",
      "Error occured\n",
      "Error occured\n",
      "Error occured\n",
      "Error occured\n",
      "Error occured\n",
      "Error occured\n",
      "Error occured\n",
      "Error occured\n",
      "Error occured\n",
      "Error occured\n",
      "Error occured\n",
      "Error occured\n",
      "Error occured\n",
      "Error occured\n",
      "Error occured\n",
      "Error occured\n",
      "Error occured\n",
      "Error occured\n",
      "Error occured\n",
      "Error occured\n",
      "Error occured\n",
      "Error occured\n",
      "Error occured\n",
      "Error occured\n",
      "Error occured\n",
      "Error occured\n",
      "Error occured\n",
      "Error occured\n",
      "Error occured\n",
      "Error occured\n",
      "Error occured\n",
      "Error occured\n",
      "Error occured\n",
      "Error occured\n",
      "Error occured\n",
      "Error occured\n",
      "Error occured\n",
      "Error occured\n",
      "Error occured\n",
      "Error occured\n",
      "Error occured\n",
      "Error occured\n",
      "Error occured\n",
      "Error occured\n",
      "Error occured\n",
      "Error occured\n",
      "Error occured\n",
      "Error occured\n",
      "Error occured\n",
      "Error occured\n",
      "Error occured\n",
      "Error occured\n",
      "Error occured\n",
      "Error occured\n",
      "Error occured\n",
      "Error occured\n",
      "Error occured\n",
      "Error occured\n",
      "Error occured\n",
      "Error occured\n",
      "Error occured\n",
      "Error occured\n",
      "Error occured\n",
      "Error occured\n",
      "Error occured\n",
      "Error occured\n",
      "Error occured\n",
      "Error occured\n",
      "Error occured\n",
      "Error occured\n",
      "Error occured\n",
      "Error occured\n",
      "Error occured\n",
      "Error occured\n",
      "Error occured\n",
      "Error occured\n",
      "Error occured\n",
      "Error occured\n",
      "Error occured\n",
      "Error occured\n",
      "Error occured\n",
      "Error occured\n",
      "Error occured\n",
      "Error occured\n",
      "Error occured\n",
      "Error occured\n",
      "Error occured\n",
      "Error occured\n",
      "Error occured\n",
      "Error occured\n",
      "Error occured\n",
      "Error occured\n",
      "Error occured\n",
      "Error occured\n",
      "Error occured\n",
      "Error occured\n",
      "Error occured\n",
      "Error occured\n",
      "Error occured\n",
      "Error occured\n",
      "Error occured\n",
      "Error occured\n",
      "Error occured\n",
      "Error occured\n",
      "Error occured\n",
      "Error occured\n",
      "Error occured\n",
      "Error occured\n",
      "Error occured\n",
      "Error occured\n",
      "Error occured\n",
      "Error occured\n"
     ]
    }
   ],
   "source": [
    "respones = df['doi'].progress_apply(get_openalex_attributes)"
   ]
  },
  {
   "cell_type": "code",
   "execution_count": 6,
   "metadata": {},
   "outputs": [],
   "source": [
    "with open('../data/openalex_respones.pkl', 'wb') as f:\n",
    "    pkl.dump(respones, f)"
   ]
  },
  {
   "cell_type": "code",
   "execution_count": 8,
   "metadata": {},
   "outputs": [
    {
     "data": {
      "text/plain": [
       "121"
      ]
     },
     "execution_count": 8,
     "metadata": {},
     "output_type": "execute_result"
    }
   ],
   "source": [
    "respones.isna().sum()"
   ]
  },
  {
   "cell_type": "code",
   "execution_count": 14,
   "metadata": {},
   "outputs": [],
   "source": [
    "df = df.loc[~respones.isna()].reset_index(drop=True)\n",
    "respones = respones.loc[~respones.isna()]\n",
    "rows = respones.apply(pd.DataFrame)\n",
    "responses_df = pd.concat(rows.to_list(), axis='index').reset_index(drop=True)\n",
    "df_with_openalex = pd.concat([df, responses_df], axis='columns')"
   ]
  },
  {
   "cell_type": "code",
   "execution_count": 19,
   "metadata": {},
   "outputs": [],
   "source": [
    "df_with_openalex.to_csv('../data/df_all.csv', index=False)"
   ]
  }
 ],
 "metadata": {
  "interpreter": {
   "hash": "f0e7020c842ea58db8265ee26d0d0bae41d1159f80d759db8ce7993036046312"
  },
  "kernelspec": {
   "display_name": "Python 3.9.7 ('badawcze')",
   "language": "python",
   "name": "python3"
  },
  "language_info": {
   "codemirror_mode": {
    "name": "ipython",
    "version": 3
   },
   "file_extension": ".py",
   "mimetype": "text/x-python",
   "name": "python",
   "nbconvert_exporter": "python",
   "pygments_lexer": "ipython3",
   "version": "3.9.7"
  },
  "orig_nbformat": 4
 },
 "nbformat": 4,
 "nbformat_minor": 2
}
