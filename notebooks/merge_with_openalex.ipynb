{
 "cells": [
  {
   "cell_type": "code",
   "execution_count": 1,
   "metadata": {},
   "outputs": [],
   "source": [
    "import os\n",
    "os.chdir('..')"
   ]
  },
  {
   "cell_type": "code",
   "execution_count": 10,
   "metadata": {},
   "outputs": [],
   "source": [
    "import pandas as pd\n",
    "import pickle as pkl\n",
    "import numpy as np"
   ]
  },
  {
   "cell_type": "code",
   "execution_count": 3,
   "metadata": {},
   "outputs": [],
   "source": [
    "df_altmetric = pd.read_csv('data/data_with_altmetric.csv')\n",
    "with open('data/openalex_responses.pkl', 'rb') as f:\n",
    "    openalex_responses = pkl.load(f)"
   ]
  },
  {
   "cell_type": "code",
   "execution_count": 4,
   "metadata": {},
   "outputs": [],
   "source": [
    "df_altmetric = df_altmetric.loc[~openalex_responses.isna()].reset_index(drop=True)\n",
    "openalex_responses = openalex_responses.loc[~openalex_responses.isna()]"
   ]
  },
  {
   "cell_type": "code",
   "execution_count": 5,
   "metadata": {},
   "outputs": [],
   "source": [
    "inst_col = openalex_responses.apply(lambda resp: resp.pop('institutions'))"
   ]
  },
  {
   "cell_type": "code",
   "execution_count": 11,
   "metadata": {},
   "outputs": [],
   "source": [
    "openalex_rows = openalex_responses.apply(pd.DataFrame, index=[0]).tolist()\n",
    "openalex_df = pd.concat(openalex_rows).reset_index(drop=True)\n",
    "openalex_df = openalex_df.assign(\n",
    "    institutions = inst_col\n",
    ")\n",
    "openalex_df = openalex_df.reset_index(drop=True)\n",
    "openalex_df['institutions'] = openalex_df['institutions'].apply(np.unique)"
   ]
  },
  {
   "cell_type": "code",
   "execution_count": 13,
   "metadata": {},
   "outputs": [],
   "source": [
    "#df_altmetric = df_altmetric.drop(columns=['Unnamed: 0.1', 'Unnamed: 0'])"
   ]
  },
  {
   "cell_type": "code",
   "execution_count": 14,
   "metadata": {},
   "outputs": [],
   "source": [
    "df = pd.concat([df_altmetric, openalex_df], axis='columns')"
   ]
  },
  {
   "cell_type": "code",
   "execution_count": 15,
   "metadata": {},
   "outputs": [],
   "source": [
    "df.to_csv('data/df_all.csv', index=False)"
   ]
  },
  {
   "cell_type": "code",
   "execution_count": 20,
   "metadata": {},
   "outputs": [],
   "source": [
    "with open('data/df_all.pkl', 'wb') as f:\n",
    "    pkl.dump(df, f)"
   ]
  },
  {
   "cell_type": "code",
   "execution_count": 23,
   "metadata": {},
   "outputs": [],
   "source": [
    "from collections import defaultdict\n",
    "import seaborn as sns"
   ]
  },
  {
   "cell_type": "code",
   "execution_count": 32,
   "metadata": {},
   "outputs": [],
   "source": [
    "citations_count = defaultdict(lambda: 0)\n",
    "papers_inst_count = defaultdict(lambda: 0)"
   ]
  },
  {
   "cell_type": "code",
   "execution_count": 33,
   "metadata": {},
   "outputs": [],
   "source": [
    "for row in df.iterrows():\n",
    "    row = row[1]\n",
    "    for inst in row['institutions']:\n",
    "        citations_count[inst] += row['cited_by_policies_count']\n",
    "        papers_inst_count[inst] += 1"
   ]
  },
  {
   "cell_type": "code",
   "execution_count": 36,
   "metadata": {},
   "outputs": [],
   "source": [
    "means = defaultdict(lambda: 0)\n",
    "for key in citations_count.keys():\n",
    "    means[key] = citations_count[key]/papers_inst_count[key]\n",
    "means_items = means.items()"
   ]
  },
  {
   "cell_type": "code",
   "execution_count": 39,
   "metadata": {},
   "outputs": [],
   "source": [
    "count_df = pd.DataFrame({\n",
    "    'institution': [item[0] for item in means_items],\n",
    "    'mean': [item[1] for item in means_items],\n",
    "})"
   ]
  },
  {
   "cell_type": "code",
   "execution_count": 47,
   "metadata": {},
   "outputs": [],
   "source": [
    "top_cited_institutions = count_df.sort_values('mean', ascending=False).head(10)"
   ]
  },
  {
   "cell_type": "code",
   "execution_count": 53,
   "metadata": {},
   "outputs": [
    {
     "ename": "KeyError",
     "evalue": "'figure.facetcolor is not a valid rc parameter (see rcParams.keys() for a list of valid parameters)'",
     "output_type": "error",
     "traceback": [
      "\u001b[0;31m---------------------------------------------------------------------------\u001b[0m",
      "\u001b[0;31mKeyError\u001b[0m                                  Traceback (most recent call last)",
      "File \u001b[0;32m~/miniconda3/envs/badawcze/lib/python3.9/site-packages/matplotlib/__init__.py:644\u001b[0m, in \u001b[0;36mRcParams.__setitem__\u001b[0;34m(self, key, val)\u001b[0m\n\u001b[1;32m    <a href='file:///home/antoni/miniconda3/envs/badawcze/lib/python3.9/site-packages/matplotlib/__init__.py?line=642'>643</a>\u001b[0m \u001b[39mtry\u001b[39;00m:\n\u001b[0;32m--> <a href='file:///home/antoni/miniconda3/envs/badawcze/lib/python3.9/site-packages/matplotlib/__init__.py?line=643'>644</a>\u001b[0m     cval \u001b[39m=\u001b[39m \u001b[39mself\u001b[39;49m\u001b[39m.\u001b[39;49mvalidate[key](val)\n\u001b[1;32m    <a href='file:///home/antoni/miniconda3/envs/badawcze/lib/python3.9/site-packages/matplotlib/__init__.py?line=644'>645</a>\u001b[0m \u001b[39mexcept\u001b[39;00m \u001b[39mValueError\u001b[39;00m \u001b[39mas\u001b[39;00m ve:\n",
      "\u001b[0;31mKeyError\u001b[0m: 'figure.facetcolor'",
      "\nThe above exception was the direct cause of the following exception:\n",
      "\u001b[0;31mKeyError\u001b[0m                                  Traceback (most recent call last)",
      "\u001b[1;32m/mnt/c/Users/user/Google Drive/Uczelnia/WB/wb-projekt/notebooks/merge_with_openalex.ipynb Cell 17'\u001b[0m in \u001b[0;36m<cell line: 3>\u001b[0;34m()\u001b[0m\n\u001b[1;32m      <a href='vscode-notebook-cell://wsl%2Bubuntu-20.04/mnt/c/Users/user/Google%20Drive/Uczelnia/WB/wb-projekt/notebooks/merge_with_openalex.ipynb#ch0000026vscode-remote?line=0'>1</a>\u001b[0m \u001b[39mimport\u001b[39;00m \u001b[39mmatplotlib\u001b[39;00m\u001b[39m.\u001b[39;00m\u001b[39mpyplot\u001b[39;00m \u001b[39mas\u001b[39;00m \u001b[39mplt\u001b[39;00m\n\u001b[0;32m----> <a href='vscode-notebook-cell://wsl%2Bubuntu-20.04/mnt/c/Users/user/Google%20Drive/Uczelnia/WB/wb-projekt/notebooks/merge_with_openalex.ipynb#ch0000026vscode-remote?line=2'>3</a>\u001b[0m plt\u001b[39m.\u001b[39mrcParams[\u001b[39m'\u001b[39m\u001b[39mfigure.facetcolor\u001b[39m\u001b[39m'\u001b[39m] \u001b[39m=\u001b[39m \u001b[39m'\u001b[39m\u001b[39mwhite\u001b[39m\u001b[39m'\u001b[39m\n",
      "File \u001b[0;32m~/miniconda3/envs/badawcze/lib/python3.9/site-packages/matplotlib/__init__.py:649\u001b[0m, in \u001b[0;36mRcParams.__setitem__\u001b[0;34m(self, key, val)\u001b[0m\n\u001b[1;32m    <a href='file:///home/antoni/miniconda3/envs/badawcze/lib/python3.9/site-packages/matplotlib/__init__.py?line=646'>647</a>\u001b[0m     \u001b[39mdict\u001b[39m\u001b[39m.\u001b[39m\u001b[39m__setitem__\u001b[39m(\u001b[39mself\u001b[39m, key, cval)\n\u001b[1;32m    <a href='file:///home/antoni/miniconda3/envs/badawcze/lib/python3.9/site-packages/matplotlib/__init__.py?line=647'>648</a>\u001b[0m \u001b[39mexcept\u001b[39;00m \u001b[39mKeyError\u001b[39;00m \u001b[39mas\u001b[39;00m err:\n\u001b[0;32m--> <a href='file:///home/antoni/miniconda3/envs/badawcze/lib/python3.9/site-packages/matplotlib/__init__.py?line=648'>649</a>\u001b[0m     \u001b[39mraise\u001b[39;00m \u001b[39mKeyError\u001b[39;00m(\n\u001b[1;32m    <a href='file:///home/antoni/miniconda3/envs/badawcze/lib/python3.9/site-packages/matplotlib/__init__.py?line=649'>650</a>\u001b[0m         \u001b[39mf\u001b[39m\u001b[39m\"\u001b[39m\u001b[39m{\u001b[39;00mkey\u001b[39m}\u001b[39;00m\u001b[39m is not a valid rc parameter (see rcParams.keys() for \u001b[39m\u001b[39m\"\u001b[39m\n\u001b[1;32m    <a href='file:///home/antoni/miniconda3/envs/badawcze/lib/python3.9/site-packages/matplotlib/__init__.py?line=650'>651</a>\u001b[0m         \u001b[39mf\u001b[39m\u001b[39m\"\u001b[39m\u001b[39ma list of valid parameters)\u001b[39m\u001b[39m\"\u001b[39m) \u001b[39mfrom\u001b[39;00m \u001b[39merr\u001b[39;00m\n",
      "\u001b[0;31mKeyError\u001b[0m: 'figure.facetcolor is not a valid rc parameter (see rcParams.keys() for a list of valid parameters)'"
     ]
    }
   ],
   "source": [
    "import matplotlib.pyplot as plt\n",
    "\n",
    "plt.rcParams['figure.facetcolor'] = 'white'"
   ]
  },
  {
   "cell_type": "code",
   "execution_count": 50,
   "metadata": {},
   "outputs": [
    {
     "data": {
      "text/plain": [
       "<AxesSubplot:xlabel='mean', ylabel='institution'>"
      ]
     },
     "execution_count": 50,
     "metadata": {},
     "output_type": "execute_result"
    },
    {
     "data": {
      "image/png": "[encoded data removed]",
      "text/plain": [
       "<Figure size 432x288 with 1 Axes>"
      ]
     },
     "metadata": {
      "needs_background": "light"
     },
     "output_type": "display_data"
    }
   ],
   "source": [
    "sns.barplot(data=top_cited_institutions, y='institution', x='mean')"
   ]
  }
 ],
 "metadata": {
  "interpreter": {
   "hash": "f0e7020c842ea58db8265ee26d0d0bae41d1159f80d759db8ce7993036046312"
  },
  "kernelspec": {
   "display_name": "Python 3.9.7 ('badawcze')",
   "language": "python",
   "name": "python3"
  },
  "language_info": {
   "codemirror_mode": {
    "name": "ipython",
    "version": 3
   },
   "file_extension": ".py",
   "mimetype": "text/x-python",
   "name": "python",
   "nbconvert_exporter": "python",
   "pygments_lexer": "ipython3",
   "version": "3.9.7"
  },
  "orig_nbformat": 4
 },
 "nbformat": 4,
 "nbformat_minor": 2
}
