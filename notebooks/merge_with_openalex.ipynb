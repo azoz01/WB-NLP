{
 "cells": [
  {
   "cell_type": "code",
   "execution_count": 3,
   "metadata": {},
   "outputs": [],
   "source": [
    "import os\n",
    "os.chdir('..')"
   ]
  },
  {
   "cell_type": "code",
   "execution_count": 2,
   "metadata": {},
   "outputs": [],
   "source": [
    "import pandas as pd\n",
    "import pickle as pkl"
   ]
  },
  {
   "cell_type": "code",
   "execution_count": 48,
   "metadata": {},
   "outputs": [],
   "source": [
    "df_altmetric = pd.read_csv('data/data_with_altmetric.csv')\n",
    "with open('data/openalex_respones.pkl', 'rb') as f:\n",
    "    openalex_responses = pkl.load(f)"
   ]
  },
  {
   "cell_type": "code",
   "execution_count": 49,
   "metadata": {},
   "outputs": [],
   "source": [
    "df_altmetric = df_altmetric.loc[~openalex_responses.isna()].reset_index(drop=True)\n",
    "openalex_responses = openalex_responses.loc[~openalex_responses.isna()]"
   ]
  },
  {
   "cell_type": "code",
   "execution_count": 50,
   "metadata": {},
   "outputs": [],
   "source": [
    "inst_col = openalex_responses.apply(lambda resp: resp.pop('institutions'))"
   ]
  },
  {
   "cell_type": "code",
   "execution_count": 51,
   "metadata": {},
   "outputs": [],
   "source": [
    "openalex_rows = openalex_responses.apply(pd.DataFrame, index=[0]).tolist()\n",
    "openalex_df = pd.concat(openalex_rows)\n",
    "openalex_df = openalex_df.assign(\n",
    "    institutions = inst_col\n",
    ")\n",
    "openalex_df = openalex_df.reset_index(drop=True)"
   ]
  },
  {
   "cell_type": "code",
   "execution_count": 52,
   "metadata": {},
   "outputs": [],
   "source": [
    "df_altmetric = df_altmetric.drop(columns=['Unnamed: 0.1', 'Unnamed: 0'])"
   ]
  },
  {
   "cell_type": "code",
   "execution_count": 53,
   "metadata": {},
   "outputs": [],
   "source": [
    "df = pd.concat([df_altmetric, openalex_df], axis='columns')"
   ]
  },
  {
   "cell_type": "code",
   "execution_count": 55,
   "metadata": {},
   "outputs": [],
   "source": [
    "df.to_csv('data/df_all.csv', index=False)"
   ]
  }
 ],
 "metadata": {
  "interpreter": {
   "hash": "f0e7020c842ea58db8265ee26d0d0bae41d1159f80d759db8ce7993036046312"
  },
  "kernelspec": {
   "display_name": "Python 3.9.7 ('badawcze')",
   "language": "python",
   "name": "python3"
  },
  "language_info": {
   "codemirror_mode": {
    "name": "ipython",
    "version": 3
   },
   "file_extension": ".py",
   "mimetype": "text/x-python",
   "name": "python",
   "nbconvert_exporter": "python",
   "pygments_lexer": "ipython3",
   "version": "3.9.7"
  },
  "orig_nbformat": 4
 },
 "nbformat": 4,
 "nbformat_minor": 2
}
