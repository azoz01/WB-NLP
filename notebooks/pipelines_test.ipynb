{
 "cells": [
  {
   "cell_type": "code",
   "execution_count": 1,
   "metadata": {},
   "outputs": [],
   "source": [
    "import os\n",
    "os.chdir('..')"
   ]
  },
  {
   "cell_type": "code",
   "execution_count": 2,
   "metadata": {},
   "outputs": [],
   "source": [
    "import pandas as pd\n",
    "import pickle as pkl\n",
    "from sklearn.model_selection import train_test_split"
   ]
  },
  {
   "cell_type": "code",
   "execution_count": 3,
   "metadata": {},
   "outputs": [],
   "source": [
    "df = pd.read_pickle(\"data/df_all.pkl\").sample(frac=0.005)\n",
    "df[\"is_cited\"] = (df[\"cited_by_policies_count\"] > 0).astype(int)\n",
    "X, y = df.drop(columns=[\"is_cited\"], inplace=False), df[\"is_cited\"]\n",
    "X_train, X_test, y_train, y_test = train_test_split(\n",
    "    X, y, test_size=0.3, stratify=y, random_state=2137\n",
    ")"
   ]
  },
  {
   "cell_type": "code",
   "execution_count": 4,
   "metadata": {},
   "outputs": [],
   "source": [
    "from pipelines import RawDataToVec"
   ]
  },
  {
   "cell_type": "code",
   "execution_count": 5,
   "metadata": {},
   "outputs": [],
   "source": [
    "rawDataToVec = RawDataToVec()"
   ]
  },
  {
   "cell_type": "code",
   "execution_count": 6,
   "metadata": {},
   "outputs": [
    {
     "name": "stdout",
     "output_type": "stream",
     "text": [
      "Fit: converting abstract to docs\n"
     ]
    },
    {
     "data": {
      "application/vnd.jupyter.widget-view+json": {
       "model_id": "19aaa49be9a14a998b0deb5b25eb22a7",
       "version_major": 2,
       "version_minor": 0
      },
      "text/plain": [
       "Pandas Apply:   0%|          | 0/21 [00:00<?, ?it/s]"
      ]
     },
     "metadata": {},
     "output_type": "display_data"
    },
    {
     "name": "stdout",
     "output_type": "stream",
     "text": [
      "Fit: getting unique tokens from dataset\n",
      "Fit: calculating document frequencies for unique tokens\n",
      "Fit: finding too rare and too frequent tokens\n"
     ]
    },
    {
     "name": "stderr",
     "output_type": "stream",
     "text": [
      "/home/antoni/miniconda3/envs/badawcze/lib/python3.9/site-packages/numpy/lib/arraysetops.py:270: VisibleDeprecationWarning: Creating an ndarray from ragged nested sequences (which is a list-or-tuple of lists-or-tuples-or ndarrays with different lengths or shapes) is deprecated. If you meant to do this, you must specify 'dtype=object' when creating the ndarray.\n",
      "  ar = np.asanyarray(ar)\n"
     ]
    },
    {
     "data": {
      "application/vnd.jupyter.widget-view+json": {
       "model_id": "b392292e78b14e6fb305c8a3b350707b",
       "version_major": 2,
       "version_minor": 0
      },
      "text/plain": [
       "Pandas Apply:   0%|          | 0/21 [00:00<?, ?it/s]"
      ]
     },
     "metadata": {},
     "output_type": "display_data"
    },
    {
     "name": "stdout",
     "output_type": "stream",
     "text": [
      "Fit: fitting tf-idf\n"
     ]
    },
    {
     "data": {
      "application/vnd.jupyter.widget-view+json": {
       "model_id": "f5971888791a4cb9a7b57ec4c0313cf7",
       "version_major": 2,
       "version_minor": 0
      },
      "text/plain": [
       "Pandas Apply:   0%|          | 0/21 [00:00<?, ?it/s]"
      ]
     },
     "metadata": {},
     "output_type": "display_data"
    },
    {
     "name": "stdout",
     "output_type": "stream",
     "text": [
      "Removing NAs from institutions\n",
      "Removing NAs from institutions_types\n",
      "Removing NAs from authors\n",
      "Removing NAs from countries\n",
      "Removing NAs from mag_field_of_study\n"
     ]
    },
    {
     "data": {
      "application/vnd.jupyter.widget-view+json": {
       "model_id": "d1c6fcc694c74db9b3b7d14b7f3e701b",
       "version_major": 2,
       "version_minor": 0
      },
      "text/plain": [
       "Pandas Apply:   0%|          | 0/21 [00:00<?, ?it/s]"
      ]
     },
     "metadata": {},
     "output_type": "display_data"
    },
    {
     "data": {
      "application/vnd.jupyter.widget-view+json": {
       "model_id": "7a52e3044bb044838ee1f1387e4da0ff",
       "version_major": 2,
       "version_minor": 0
      },
      "text/plain": [
       "Pandas Apply:   0%|          | 0/21 [00:00<?, ?it/s]"
      ]
     },
     "metadata": {},
     "output_type": "display_data"
    },
    {
     "data": {
      "application/vnd.jupyter.widget-view+json": {
       "model_id": "27afbbcbf1344df581479e62d0f73cad",
       "version_major": 2,
       "version_minor": 0
      },
      "text/plain": [
       "Pandas Apply:   0%|          | 0/21 [00:00<?, ?it/s]"
      ]
     },
     "metadata": {},
     "output_type": "display_data"
    },
    {
     "data": {
      "application/vnd.jupyter.widget-view+json": {
       "model_id": "13f09669890e4055baba203b157ee0d9",
       "version_major": 2,
       "version_minor": 0
      },
      "text/plain": [
       "Pandas Apply:   0%|          | 0/21 [00:00<?, ?it/s]"
      ]
     },
     "metadata": {},
     "output_type": "display_data"
    },
    {
     "name": "stdout",
     "output_type": "stream",
     "text": [
      "Removing NAs from institutions\n",
      "Removing NAs from institutions_types\n",
      "Removing NAs from authors\n",
      "Removing NAs from countries\n",
      "Removing NAs from mag_field_of_study\n",
      "Removing NAs from journal\n",
      "Removing NAs from type\n",
      "LOOOG: journal\n",
      "Removing NAs from journal\n"
     ]
    },
    {
     "name": "stderr",
     "output_type": "stream",
     "text": [
      "/home/antoni/miniconda3/envs/badawcze/lib/python3.9/site-packages/sklearn/preprocessing/_label.py:875: UserWarning: unknown class(es) ['other'] will be ignored\n",
      "  warnings.warn(\n"
     ]
    },
    {
     "ename": "IndexingError",
     "evalue": "Unalignable boolean Series provided as indexer (index of the boolean Series and of the indexed object do not match).",
     "output_type": "error",
     "traceback": [
      "\u001b[0;31m---------------------------------------------------------------------------\u001b[0m",
      "\u001b[0;31mIndexingError\u001b[0m                             Traceback (most recent call last)",
      "\u001b[1;32m/mnt/c/Users/user/Google Drive/Uczelnia/WB/wb-projekt/notebooks/pipelines_test.ipynb Cell 6'\u001b[0m in \u001b[0;36m<cell line: 1>\u001b[0;34m()\u001b[0m\n\u001b[0;32m----> <a href='vscode-notebook-cell://wsl%2Bubuntu-20.04/mnt/c/Users/user/Google%20Drive/Uczelnia/WB/wb-projekt/notebooks/pipelines_test.ipynb#ch0000005vscode-remote?line=0'>1</a>\u001b[0m rawDataToVec\u001b[39m.\u001b[39;49mfit(X_train, y_train)\n",
      "File \u001b[0;32m/mnt/c/Users/user/Google Drive/Uczelnia/WB/wb-projekt/pipelines.py:45\u001b[0m, in \u001b[0;36mRawDataToVec.fit\u001b[0;34m(self, X, y, **kwargs)\u001b[0m\n\u001b[1;32m     <a href='file:///mnt/c/Users/user/Google%20Drive/Uczelnia/WB/wb-projekt/pipelines.py?line=42'>43</a>\u001b[0m X[\u001b[39m\"\u001b[39m\u001b[39mjournal\u001b[39m\u001b[39m\"\u001b[39m] \u001b[39m=\u001b[39m X[\u001b[39m\"\u001b[39m\u001b[39mjournal\u001b[39m\u001b[39m\"\u001b[39m]\u001b[39m.\u001b[39mapply(\u001b[39mlambda\u001b[39;00m l: l[\u001b[39m0\u001b[39m])\n\u001b[1;32m     <a href='file:///mnt/c/Users/user/Google%20Drive/Uczelnia/WB/wb-projekt/pipelines.py?line=43'>44</a>\u001b[0m \u001b[39mself\u001b[39m\u001b[39m.\u001b[39mohemc\u001b[39m.\u001b[39mfit(X, y)\n\u001b[0;32m---> <a href='file:///mnt/c/Users/user/Google%20Drive/Uczelnia/WB/wb-projekt/pipelines.py?line=44'>45</a>\u001b[0m X, y \u001b[39m=\u001b[39m \u001b[39mself\u001b[39;49m\u001b[39m.\u001b[39;49mohemc\u001b[39m.\u001b[39;49mtransform(X, y)\n\u001b[1;32m     <a href='file:///mnt/c/Users/user/Google%20Drive/Uczelnia/WB/wb-projekt/pipelines.py?line=45'>46</a>\u001b[0m \u001b[39mself\u001b[39m\u001b[39m.\u001b[39mdf2vec\u001b[39m.\u001b[39mfit(X, y)\n\u001b[1;32m     <a href='file:///mnt/c/Users/user/Google%20Drive/Uczelnia/WB/wb-projekt/pipelines.py?line=46'>47</a>\u001b[0m \u001b[39mreturn\u001b[39;00m \u001b[39mself\u001b[39m\n",
      "File \u001b[0;32m/mnt/c/Users/user/Google Drive/Uczelnia/WB/wb-projekt/pipelines.py:228\u001b[0m, in \u001b[0;36mOnehotEncoderMulticolumn.transform\u001b[0;34m(self, X, y, **kwargs)\u001b[0m\n\u001b[1;32m    <a href='file:///mnt/c/Users/user/Google%20Drive/Uczelnia/WB/wb-projekt/pipelines.py?line=225'>226</a>\u001b[0m \u001b[39mprint\u001b[39m(\u001b[39mf\u001b[39m\u001b[39m\"\u001b[39m\u001b[39mLOOOG: \u001b[39m\u001b[39m{\u001b[39;00mcol\u001b[39m}\u001b[39;00m\u001b[39m\"\u001b[39m)\n\u001b[1;32m    <a href='file:///mnt/c/Users/user/Google%20Drive/Uczelnia/WB/wb-projekt/pipelines.py?line=226'>227</a>\u001b[0m \u001b[39mprint\u001b[39m(\u001b[39mf\u001b[39m\u001b[39m\"\u001b[39m\u001b[39mRemoving NAs from \u001b[39m\u001b[39m{\u001b[39;00mcol\u001b[39m}\u001b[39;00m\u001b[39m\"\u001b[39m)\n\u001b[0;32m--> <a href='file:///mnt/c/Users/user/Google%20Drive/Uczelnia/WB/wb-projekt/pipelines.py?line=227'>228</a>\u001b[0m y \u001b[39m=\u001b[39m y\u001b[39m.\u001b[39;49mloc[\u001b[39m~\u001b[39;49mX[col]\u001b[39m.\u001b[39;49misna()]\n\u001b[1;32m    <a href='file:///mnt/c/Users/user/Google%20Drive/Uczelnia/WB/wb-projekt/pipelines.py?line=228'>229</a>\u001b[0m X \u001b[39m=\u001b[39m X\u001b[39m.\u001b[39mloc[\u001b[39m~\u001b[39mX[col]\u001b[39m.\u001b[39misna()]\n\u001b[1;32m    <a href='file:///mnt/c/Users/user/Google%20Drive/Uczelnia/WB/wb-projekt/pipelines.py?line=229'>230</a>\u001b[0m column \u001b[39m=\u001b[39m pd\u001b[39m.\u001b[39mDataFrame(X[col])\n",
      "File \u001b[0;32m~/miniconda3/envs/badawcze/lib/python3.9/site-packages/pandas/core/indexing.py:895\u001b[0m, in \u001b[0;36m_LocationIndexer.__getitem__\u001b[0;34m(self, key)\u001b[0m\n\u001b[1;32m    <a href='file:///home/antoni/miniconda3/envs/badawcze/lib/python3.9/site-packages/pandas/core/indexing.py?line=891'>892</a>\u001b[0m axis \u001b[39m=\u001b[39m \u001b[39mself\u001b[39m\u001b[39m.\u001b[39maxis \u001b[39mor\u001b[39;00m \u001b[39m0\u001b[39m\n\u001b[1;32m    <a href='file:///home/antoni/miniconda3/envs/badawcze/lib/python3.9/site-packages/pandas/core/indexing.py?line=893'>894</a>\u001b[0m maybe_callable \u001b[39m=\u001b[39m com\u001b[39m.\u001b[39mapply_if_callable(key, \u001b[39mself\u001b[39m\u001b[39m.\u001b[39mobj)\n\u001b[0;32m--> <a href='file:///home/antoni/miniconda3/envs/badawcze/lib/python3.9/site-packages/pandas/core/indexing.py?line=894'>895</a>\u001b[0m \u001b[39mreturn\u001b[39;00m \u001b[39mself\u001b[39;49m\u001b[39m.\u001b[39;49m_getitem_axis(maybe_callable, axis\u001b[39m=\u001b[39;49maxis)\n",
      "File \u001b[0;32m~/miniconda3/envs/badawcze/lib/python3.9/site-packages/pandas/core/indexing.py:1104\u001b[0m, in \u001b[0;36m_LocIndexer._getitem_axis\u001b[0;34m(self, key, axis)\u001b[0m\n\u001b[1;32m   <a href='file:///home/antoni/miniconda3/envs/badawcze/lib/python3.9/site-packages/pandas/core/indexing.py?line=1101'>1102</a>\u001b[0m     \u001b[39mreturn\u001b[39;00m \u001b[39mself\u001b[39m\u001b[39m.\u001b[39m_get_slice_axis(key, axis\u001b[39m=\u001b[39maxis)\n\u001b[1;32m   <a href='file:///home/antoni/miniconda3/envs/badawcze/lib/python3.9/site-packages/pandas/core/indexing.py?line=1102'>1103</a>\u001b[0m \u001b[39melif\u001b[39;00m com\u001b[39m.\u001b[39mis_bool_indexer(key):\n\u001b[0;32m-> <a href='file:///home/antoni/miniconda3/envs/badawcze/lib/python3.9/site-packages/pandas/core/indexing.py?line=1103'>1104</a>\u001b[0m     \u001b[39mreturn\u001b[39;00m \u001b[39mself\u001b[39;49m\u001b[39m.\u001b[39;49m_getbool_axis(key, axis\u001b[39m=\u001b[39;49maxis)\n\u001b[1;32m   <a href='file:///home/antoni/miniconda3/envs/badawcze/lib/python3.9/site-packages/pandas/core/indexing.py?line=1104'>1105</a>\u001b[0m \u001b[39melif\u001b[39;00m is_list_like_indexer(key):\n\u001b[1;32m   <a href='file:///home/antoni/miniconda3/envs/badawcze/lib/python3.9/site-packages/pandas/core/indexing.py?line=1105'>1106</a>\u001b[0m \n\u001b[1;32m   <a href='file:///home/antoni/miniconda3/envs/badawcze/lib/python3.9/site-packages/pandas/core/indexing.py?line=1106'>1107</a>\u001b[0m     \u001b[39m# an iterable multi-selection\u001b[39;00m\n\u001b[1;32m   <a href='file:///home/antoni/miniconda3/envs/badawcze/lib/python3.9/site-packages/pandas/core/indexing.py?line=1107'>1108</a>\u001b[0m     \u001b[39mif\u001b[39;00m \u001b[39mnot\u001b[39;00m (\u001b[39misinstance\u001b[39m(key, \u001b[39mtuple\u001b[39m) \u001b[39mand\u001b[39;00m \u001b[39misinstance\u001b[39m(labels, ABCMultiIndex)):\n",
      "File \u001b[0;32m~/miniconda3/envs/badawcze/lib/python3.9/site-packages/pandas/core/indexing.py:912\u001b[0m, in \u001b[0;36m_LocationIndexer._getbool_axis\u001b[0;34m(self, key, axis)\u001b[0m\n\u001b[1;32m    <a href='file:///home/antoni/miniconda3/envs/badawcze/lib/python3.9/site-packages/pandas/core/indexing.py?line=908'>909</a>\u001b[0m \u001b[39mdef\u001b[39;00m \u001b[39m_getbool_axis\u001b[39m(\u001b[39mself\u001b[39m, key, axis: \u001b[39mint\u001b[39m):\n\u001b[1;32m    <a href='file:///home/antoni/miniconda3/envs/badawcze/lib/python3.9/site-packages/pandas/core/indexing.py?line=909'>910</a>\u001b[0m     \u001b[39m# caller is responsible for ensuring non-None axis\u001b[39;00m\n\u001b[1;32m    <a href='file:///home/antoni/miniconda3/envs/badawcze/lib/python3.9/site-packages/pandas/core/indexing.py?line=910'>911</a>\u001b[0m     labels \u001b[39m=\u001b[39m \u001b[39mself\u001b[39m\u001b[39m.\u001b[39mobj\u001b[39m.\u001b[39m_get_axis(axis)\n\u001b[0;32m--> <a href='file:///home/antoni/miniconda3/envs/badawcze/lib/python3.9/site-packages/pandas/core/indexing.py?line=911'>912</a>\u001b[0m     key \u001b[39m=\u001b[39m check_bool_indexer(labels, key)\n\u001b[1;32m    <a href='file:///home/antoni/miniconda3/envs/badawcze/lib/python3.9/site-packages/pandas/core/indexing.py?line=912'>913</a>\u001b[0m     inds \u001b[39m=\u001b[39m key\u001b[39m.\u001b[39mnonzero()[\u001b[39m0\u001b[39m]\n\u001b[1;32m    <a href='file:///home/antoni/miniconda3/envs/badawcze/lib/python3.9/site-packages/pandas/core/indexing.py?line=913'>914</a>\u001b[0m     \u001b[39mreturn\u001b[39;00m \u001b[39mself\u001b[39m\u001b[39m.\u001b[39mobj\u001b[39m.\u001b[39m_take_with_is_copy(inds, axis\u001b[39m=\u001b[39maxis)\n",
      "File \u001b[0;32m~/miniconda3/envs/badawcze/lib/python3.9/site-packages/pandas/core/indexing.py:2269\u001b[0m, in \u001b[0;36mcheck_bool_indexer\u001b[0;34m(index, key)\u001b[0m\n\u001b[1;32m   <a href='file:///home/antoni/miniconda3/envs/badawcze/lib/python3.9/site-packages/pandas/core/indexing.py?line=2266'>2267</a>\u001b[0m     mask \u001b[39m=\u001b[39m isna(result\u001b[39m.\u001b[39m_values)\n\u001b[1;32m   <a href='file:///home/antoni/miniconda3/envs/badawcze/lib/python3.9/site-packages/pandas/core/indexing.py?line=2267'>2268</a>\u001b[0m     \u001b[39mif\u001b[39;00m mask\u001b[39m.\u001b[39many():\n\u001b[0;32m-> <a href='file:///home/antoni/miniconda3/envs/badawcze/lib/python3.9/site-packages/pandas/core/indexing.py?line=2268'>2269</a>\u001b[0m         \u001b[39mraise\u001b[39;00m IndexingError(\n\u001b[1;32m   <a href='file:///home/antoni/miniconda3/envs/badawcze/lib/python3.9/site-packages/pandas/core/indexing.py?line=2269'>2270</a>\u001b[0m             \u001b[39m\"\u001b[39m\u001b[39mUnalignable boolean Series provided as \u001b[39m\u001b[39m\"\u001b[39m\n\u001b[1;32m   <a href='file:///home/antoni/miniconda3/envs/badawcze/lib/python3.9/site-packages/pandas/core/indexing.py?line=2270'>2271</a>\u001b[0m             \u001b[39m\"\u001b[39m\u001b[39mindexer (index of the boolean Series and of \u001b[39m\u001b[39m\"\u001b[39m\n\u001b[1;32m   <a href='file:///home/antoni/miniconda3/envs/badawcze/lib/python3.9/site-packages/pandas/core/indexing.py?line=2271'>2272</a>\u001b[0m             \u001b[39m\"\u001b[39m\u001b[39mthe indexed object do not match).\u001b[39m\u001b[39m\"\u001b[39m\n\u001b[1;32m   <a href='file:///home/antoni/miniconda3/envs/badawcze/lib/python3.9/site-packages/pandas/core/indexing.py?line=2272'>2273</a>\u001b[0m         )\n\u001b[1;32m   <a href='file:///home/antoni/miniconda3/envs/badawcze/lib/python3.9/site-packages/pandas/core/indexing.py?line=2273'>2274</a>\u001b[0m     \u001b[39mreturn\u001b[39;00m result\u001b[39m.\u001b[39mastype(\u001b[39mbool\u001b[39m)\u001b[39m.\u001b[39m_values\n\u001b[1;32m   <a href='file:///home/antoni/miniconda3/envs/badawcze/lib/python3.9/site-packages/pandas/core/indexing.py?line=2274'>2275</a>\u001b[0m \u001b[39mif\u001b[39;00m is_object_dtype(key):\n\u001b[1;32m   <a href='file:///home/antoni/miniconda3/envs/badawcze/lib/python3.9/site-packages/pandas/core/indexing.py?line=2275'>2276</a>\u001b[0m     \u001b[39m# key might be object-dtype bool, check_array_indexer needs bool array\u001b[39;00m\n",
      "\u001b[0;31mIndexingError\u001b[0m: Unalignable boolean Series provided as indexer (index of the boolean Series and of the indexed object do not match)."
     ]
    }
   ],
   "source": [
    "rawDataToVec.fit(X_train, y_train)"
   ]
  },
  {
   "cell_type": "code",
   "execution_count": null,
   "metadata": {},
   "outputs": [],
   "source": [
    "X_train = X_train.reset_index(drop=True)\n",
    "X_test = X_test.reset_index(drop=True)\n",
    "\n",
    "y_train = y_train.reset_index(drop=True)\n",
    "y_test = y_test.reset_index(drop=True)"
   ]
  },
  {
   "cell_type": "code",
   "execution_count": null,
   "metadata": {},
   "outputs": [],
   "source": [
    "X_train, y_train = rawDataToVec.transform(X_train)\n",
    "X_test, y_test = rawDataToVec.transform(X_test)"
   ]
  },
  {
   "cell_type": "code",
   "execution_count": null,
   "metadata": {},
   "outputs": [],
   "source": [
    "with open(\"data/train_data.pkl\", \"wb\") as f:\n",
    "    pkl.dump((X_train, y_train), f)\n",
    "with open(\"data/test_data.pkl\", \"wb\") as f:\n",
    "    pkl.dump((X_test, y_test), f)"
   ]
  }
 ],
 "metadata": {
  "interpreter": {
   "hash": "f0e7020c842ea58db8265ee26d0d0bae41d1159f80d759db8ce7993036046312"
  },
  "kernelspec": {
   "display_name": "Python 3.9.7 ('badawcze')",
   "language": "python",
   "name": "python3"
  },
  "language_info": {
   "codemirror_mode": {
    "name": "ipython",
    "version": 3
   },
   "file_extension": ".py",
   "mimetype": "text/x-python",
   "name": "python",
   "nbconvert_exporter": "python",
   "pygments_lexer": "ipython3",
   "version": "3.9.7"
  },
  "orig_nbformat": 4
 },
 "nbformat": 4,
 "nbformat_minor": 2
}
